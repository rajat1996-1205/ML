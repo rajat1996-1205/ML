{
 "cells": [
  {
   "cell_type": "code",
   "execution_count": 122,
   "metadata": {},
   "outputs": [],
   "source": [
    "import numpy as np\n",
    "import pandas as pd\n",
    "import matplotlib.pyplot as plt\n",
    "from sklearn.model_selection import train_test_split\n",
    "import seaborn as sns\n",
    "from sklearn.datasets import load_breast_cancer"
   ]
  },
  {
   "cell_type": "code",
   "execution_count": 123,
   "metadata": {},
   "outputs": [],
   "source": [
    "def get_data():\n",
    "    breastcerdt = load_breast_cancer()\n",
    "    X = pd.DataFrame(breastcerdt.data,columns = breastcerdt.feature_names).values\n",
    "    Y = breastcerdt.target\n",
    "    Y = Y.reshape(Y.shape[0],1)\n",
    "    x = np.ones((X.shape[0],1))\n",
    "    X = np.insert(X,0,x,1)\n",
    "    return X,Y"
   ]
  },
  {
   "cell_type": "code",
   "execution_count": 124,
   "metadata": {},
   "outputs": [],
   "source": [
    "def sigmoid(z):\n",
    "    return 1/(1+np.exp(-z))\n",
    "    "
   ]
  },
  {
   "cell_type": "code",
   "execution_count": 125,
   "metadata": {},
   "outputs": [],
   "source": [
    "def get_params(num_features):\n",
    "    return np.zeros((num_features,1))"
   ]
  },
  {
   "cell_type": "code",
   "execution_count": 126,
   "metadata": {},
   "outputs": [],
   "source": [
    "def cost(Y_pred,Y):\n",
    "    return -((1-Y)*np.log(1-Y_pred)+Y*np.log(Y_pred)).sum()"
   ]
  },
  {
   "cell_type": "code",
   "execution_count": 127,
   "metadata": {},
   "outputs": [],
   "source": [
    "def get_Y_pred(params,X):\n",
    "    return sigmoid(X@params)"
   ]
  },
  {
   "cell_type": "code",
   "execution_count": 128,
   "metadata": {},
   "outputs": [],
   "source": [
    "def grad_descent(params,X_train,Y_train,learnin_rt,num_itr):\n",
    "    m = X_train.shape[0]\n",
    "    L_cost = np.zeros((num_itr,1)) \n",
    "    for i in range(num_itr):\n",
    "        \n",
    "        Y_pred = get_Y_pred(params,X_train)\n",
    "        params = params - (X_train.T@(Y_pred - Y_train)*learnin_rt)/m\n",
    "        L_cost[i] = cost(Y_pred,Y_train) \n",
    "    plt.plot(range(num_itr),L_cost,'g')\n",
    "    plt.title(\"Cost vs num_itr\")\n",
    "    plt.xlabel(\"num_itr\")\n",
    "    plt.ylabel(\"Cost\")\n",
    "    sns.despine()\n",
    "    plt.show()\n",
    "    return params\n",
    "   \n",
    "        \n",
    "        \n",
    "    "
   ]
  },
  {
   "cell_type": "code",
   "execution_count": 129,
   "metadata": {},
   "outputs": [],
   "source": [
    "X,Y=get_data()\n",
    "X_train,X_test,Y_train,Y_test=train_test_split(X,Y,test_size=0.2)\n",
    "params = get_params(X_train.shape[1])\n"
   ]
  },
  {
   "cell_type": "code",
   "execution_count": 130,
   "metadata": {},
   "outputs": [
    {
     "data": {
      "image/png": "[encoded data removed]",
      "text/plain": [
       "<Figure size 432x288 with 1 Axes>"
      ]
     },
     "metadata": {
      "needs_background": "light"
     },
     "output_type": "display_data"
    }
   ],
   "source": [
    "params = grad_descent(params,X_train,Y_train,0.000008,100000)"
   ]
  },
  {
   "cell_type": "code",
   "execution_count": 131,
   "metadata": {},
   "outputs": [
    {
     "data": {
      "text/plain": [
       "18.33124222925418"
      ]
     },
     "execution_count": 131,
     "metadata": {},
     "output_type": "execute_result"
    }
   ],
   "source": [
    "cost(get_Y_pred(params,X_test),Y_test)"
   ]
  },
  {
   "cell_type": "code",
   "execution_count": 138,
   "metadata": {},
   "outputs": [
    {
     "data": {
      "text/plain": [
       "array([0.96688182])"
      ]
     },
     "execution_count": 138,
     "metadata": {},
     "output_type": "execute_result"
    }
   ],
   "source": [
    "get_Y_pred(params,X_test[77])"
   ]
  },
  {
   "cell_type": "code",
   "execution_count": 139,
   "metadata": {},
   "outputs": [
    {
     "data": {
      "text/plain": [
       "array([1])"
      ]
     },
     "execution_count": 139,
     "metadata": {},
     "output_type": "execute_result"
    }
   ],
   "source": [
    "Y_test[77]"
   ]
  },
  {
   "cell_type": "code",
   "execution_count": 147,
   "metadata": {},
   "outputs": [],
   "source": [
    "y2 =  (get_Y_pred(params, X_test)>0.5).astype(int)\n",
    "yt2 =  (get_Y_pred(params, X_train)>0.5).astype(int)"
   ]
  },
  {
   "cell_type": "code",
   "execution_count": 148,
   "metadata": {},
   "outputs": [],
   "source": [
    "y3 = Y_test == y2\n",
    "yt3 = Y_train == yt2"
   ]
  },
  {
   "cell_type": "code",
   "execution_count": 151,
   "metadata": {},
   "outputs": [
    {
     "name": "stdout",
     "output_type": "stream",
     "text": [
      "Test Accuracy: 92.98\n",
      "Train Accuracy: 93.63\n"
     ]
    }
   ],
   "source": [
    "print(\"Test Accuracy: {}\".format(round(y3.sum()*100/len(y3), 2)))\n",
    "print(\"Train Accuracy: {}\".format(round(yt3.sum()*100/len(yt3), 2)))"
   ]
  },
  {
   "cell_type": "code",
   "execution_count": null,
   "metadata": {},
   "outputs": [],
   "source": [
    "COST(get_Y_)"
   ]
  }
 ],
 "metadata": {
  "kernelspec": {
   "display_name": "Python 3",
   "language": "python",
   "name": "python3"
  },
  "language_info": {
   "codemirror_mode": {
    "name": "ipython",
    "version": 3
   },
   "file_extension": ".py",
   "mimetype": "text/x-python",
   "name": "python",
   "nbconvert_exporter": "python",
   "pygments_lexer": "ipython3",
   "version": "3.7.4"
  }
 },
 "nbformat": 4,
 "nbformat_minor": 2
}
