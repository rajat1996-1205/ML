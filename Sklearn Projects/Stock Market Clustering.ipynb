{
 "cells": [
  {
   "cell_type": "code",
   "execution_count": 4,
   "metadata": {},
   "outputs": [],
   "source": [
    "from pandas_datareader import data\n",
    "import matplotlib.pyplot as plt\n",
    "import pandas as pd\n",
    "import datetime as dt\n",
    "import numpy as np"
   ]
  },
  {
   "cell_type": "code",
   "execution_count": 7,
   "metadata": {},
   "outputs": [
    {
     "name": "stdout",
     "output_type": "stream",
     "text": [
      "[('Apple', 'AAPL'), ('Amazon', 'AMZN'), ('American Express', 'AXP'), ('Boeing', 'BA'), ('Bank of America', 'BAC'), ('Chevron', 'CVX'), ('Ford', 'F'), ('General Electronics', 'GE'), ('Google', 'GOOGL'), ('Honda', 'HMC'), ('IBM', 'IBM'), ('Intel', 'INTC'), ('Johnson & Johnson', 'JNJ'), ('Coca Cola', 'KO'), ('Mastercard', 'MA'), ('McDonalds', 'MCD'), ('Mitsubishi', 'MSBHY'), ('Microsoft', 'MSFT'), ('Nokia', 'NOK'), ('Pepsi', 'PEP'), ('Sony', 'SNE'), ('Symantec', 'SYMC'), ('Toyota', 'TM'), ('Texas Instruments', 'TXN'), ('Valero Energy', 'VLO'), ('Walgreen', 'WBA'), ('Exxon', 'XOM')]\n"
     ]
    }
   ],
   "source": [
    "## Define the instruments to download\n",
    "companies_dict = {\n",
    "    \n",
    "    'Amazon' : 'AMZN',\n",
    "    'Apple' : 'AAPL',\n",
    "    'Microsoft' : 'MSFT',\n",
    "    'Walgreen' : 'WBA',\n",
    "    'Google' : 'GOOGL',\n",
    "    'Boeing' : 'BA',\n",
    "    'McDonalds' : 'MCD',\n",
    "    'Intel' : 'INTC',\n",
    "    'IBM' : 'IBM',\n",
    "    'Texas Instruments' : 'TXN',\n",
    "    'Mastercard' : 'MA',\n",
    "    'General Electronics' : 'GE',\n",
    "    'Symantec' : 'SYMC',\n",
    "    'American Express' : 'AXP',\n",
    "    'Pepsi' : 'PEP',\n",
    "    'Coca Cola' : 'KO',\n",
    "    'Johnson & Johnson' : 'JNJ',\n",
    "    'Toyota' : 'TM',\n",
    "    'Honda' : 'HMC',\n",
    "    'Mitsubishi' : 'MSBHY',\n",
    "    'Sony' : 'SNE',\n",
    "    'Exxon' : 'XOM',\n",
    "    'Chevron' : 'CVX',\n",
    "    'Valero Energy' : 'VLO',\n",
    "    'Ford' : 'F',\n",
    "    'Bank of America' : 'BAC',\n",
    "    'Nokia' : 'NOK'\n",
    "}\n",
    "\n",
    "companies = sorted(companies_dict.items(), key=lambda x: x[1])\n",
    "print(companies)"
   ]
  },
  {
   "cell_type": "code",
   "execution_count": 27,
   "metadata": {},
   "outputs": [
    {
     "name": "stdout",
     "output_type": "stream",
     "text": [
      "[DatetimeIndex(['2017-01-03', '2017-01-04', '2017-01-05', '2017-01-06',\n",
      "               '2017-01-09', '2017-01-10', '2017-01-11', '2017-01-12',\n",
      "               '2017-01-13', '2017-01-17',\n",
      "               ...\n",
      "               '2019-12-04', '2019-12-05', '2019-12-06', '2019-12-09',\n",
      "               '2019-12-10', '2019-12-11', '2019-12-12', '2019-12-13',\n",
      "               '2019-12-16', '2019-12-17'],\n",
      "              dtype='datetime64[ns]', name='Date', length=745, freq=None), MultiIndex([('Adj Close',  'AMZN'),\n",
      "            ('Adj Close',  'AAPL'),\n",
      "            ('Adj Close',  'MSFT'),\n",
      "            ('Adj Close',   'WBA'),\n",
      "            ('Adj Close', 'GOOGL'),\n",
      "            ('Adj Close',    'BA'),\n",
      "            ('Adj Close',   'MCD'),\n",
      "            ('Adj Close',  'INTC'),\n",
      "            ('Adj Close',   'IBM'),\n",
      "            ('Adj Close',   'TXN'),\n",
      "            ...\n",
      "            (   'Volume',    'TM'),\n",
      "            (   'Volume',   'HMC'),\n",
      "            (   'Volume', 'MSBHY'),\n",
      "            (   'Volume',   'SNE'),\n",
      "            (   'Volume',   'XOM'),\n",
      "            (   'Volume',   'CVX'),\n",
      "            (   'Volume',   'VLO'),\n",
      "            (   'Volume',     'F'),\n",
      "            (   'Volume',   'BAC'),\n",
      "            (   'Volume',   'NOK')],\n",
      "           names=['Attributes', 'Symbols'], length=162)]\n"
     ]
    }
   ],
   "source": [
    "data_source = 'yahoo'\n",
    "start_date = '2017-01-01'\n",
    "end_date = '2019-12-31'\n",
    "\n",
    "## Use pandas reader to load the desired stock data\n",
    "panel_data = data.DataReader(list(companies_dict.values()), data_source, start_date, end_date)\n",
    "\n",
    "\n",
    "print(panel_data.axes)"
   ]
  },
  {
   "cell_type": "code",
   "execution_count": 25,
   "metadata": {},
   "outputs": [
    {
     "name": "stdout",
     "output_type": "stream",
     "text": [
      "MultiIndex([('Adj Close',  'AMZN'),\n",
      "            ('Adj Close',  'AAPL'),\n",
      "            ('Adj Close',  'MSFT'),\n",
      "            ('Adj Close',   'WBA'),\n",
      "            ('Adj Close', 'GOOGL'),\n",
      "            ('Adj Close',    'BA'),\n",
      "            ('Adj Close',   'MCD'),\n",
      "            ('Adj Close',  'INTC'),\n",
      "            ('Adj Close',   'IBM'),\n",
      "            ('Adj Close',   'TXN'),\n",
      "            ...\n",
      "            (   'Volume',    'TM'),\n",
      "            (   'Volume',   'HMC'),\n",
      "            (   'Volume', 'MSBHY'),\n",
      "            (   'Volume',   'SNE'),\n",
      "            (   'Volume',   'XOM'),\n",
      "            (   'Volume',   'CVX'),\n",
      "            (   'Volume',   'VLO'),\n",
      "            (   'Volume',     'F'),\n",
      "            (   'Volume',   'BAC'),\n",
      "            (   'Volume',   'NOK')],\n",
      "           names=['Attributes', 'Symbols'], length=162)\n"
     ]
    }
   ],
   "source": [
    "print(panel_data.columns)"
   ]
  },
  {
   "cell_type": "code",
   "execution_count": null,
   "metadata": {},
   "outputs": [],
   "source": []
  }
 ],
 "metadata": {
  "kernelspec": {
   "display_name": "Python 3",
   "language": "python",
   "name": "python3"
  },
  "language_info": {
   "codemirror_mode": {
    "name": "ipython",
    "version": 3
   },
   "file_extension": ".py",
   "mimetype": "text/x-python",
   "name": "python",
   "nbconvert_exporter": "python",
   "pygments_lexer": "ipython3",
   "version": "3.7.4"
  }
 },
 "nbformat": 4,
 "nbformat_minor": 2
}
